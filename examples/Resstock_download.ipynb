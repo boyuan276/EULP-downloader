{
 "cells": [
  {
   "attachments": {},
   "cell_type": "markdown",
   "metadata": {
    "collapsed": false
   },
   "source": [
    "# Introduction\n",
    "\n",
    "Download data from NREL End-Use Load Profiler (EULP) project.\n",
    "\n",
    "1. Set up data directories and the list of files that needed to be downloaded.\n",
    "\n",
    "2. Set up URLs and prefixed for ResStock and ComStock data on NREL's AWS data storage.\n",
    "\n",
    "3. Download ResStock data:\n",
    "\n",
    "    (1) County-level energy time series aggregates (amy2018 and tmy3)\n",
    "\n",
    "    (2) County-level weather time series (amy2018 and tmy3)\n",
    "\n",
    "    (3) State-level energy time series aggregates (amy2018 and tmy3)\n",
    "\n",
    "    (4) Individual building energy time series (amy2018 and tmy3)\n",
    "    \n",
    "4. Download ComStock data for the same categories as ResStock."
   ]
  },
  {
   "cell_type": "markdown",
   "metadata": {},
   "source": [
    "# Packages"
   ]
  },
  {
   "cell_type": "code",
   "execution_count": 46,
   "metadata": {},
   "outputs": [],
   "source": [
    "import os\n",
    "import numpy as np\n",
    "import pandas as pd\n",
    "import downloader as dl\n"
   ]
  },
  {
   "cell_type": "markdown",
   "metadata": {},
   "source": [
    "# Parameter setup and functions"
   ]
  },
  {
   "cell_type": "code",
   "execution_count": 47,
   "metadata": {},
   "outputs": [],
   "source": [
    "# Choose the state of study, only supports NY or CA\n",
    "state = 'ny'\n",
    "# state = 'ca'\n",
    "\n",
    "# Download tmy3 data or not\n",
    "download_tmy = False\n",
    "\n",
    "# Create directories to store the data\n",
    "data_dir = f'../Data_{state}/'\n",
    "resstock_amy2018_dir = os.path.join(data_dir, 'resstock_amy2018')\n",
    "comstock_amy2018_dir = os.path.join(data_dir, 'comstock_amy2018')\n",
    "resstock_tmy3_dir = os.path.join(data_dir, 'resstock_tmy3')\n",
    "comstock_tmy3_dir = os.path.join(data_dir, 'comstock_tmy3')"
   ]
  },
  {
   "cell_type": "markdown",
   "metadata": {},
   "source": [
    "# Download ResStock data"
   ]
  },
  {
   "cell_type": "code",
   "execution_count": 48,
   "metadata": {},
   "outputs": [],
   "source": [
    "# Read resstock building characteristics data\n",
    "res_building_state = pd.read_csv(os.path.join(data_dir, f'metadata_resstock_amy2018_{state}.csv'))\n",
    "\n",
    "# Create a list of county IDs\n",
    "county_id_df = res_building_state.loc[:, ['in.county', 'in.resstock_county_id']]\n",
    "county_id_df = county_id_df.drop_duplicates()\n",
    "county_id_list = county_id_df['in.county'].to_list()\n",
    "county_id_list.sort()\n",
    "\n",
    "# Create a dictionary for building id in each county\n",
    "res_bldg_list_dict = dict()\n",
    "for county_id in county_id_list:\n",
    "    county_df = res_building_state.loc[res_building_state['in.county'] == county_id]\n",
    "    building_id = county_df['bldg_id'].to_list()\n",
    "    res_bldg_list_dict[county_id] = building_id"
   ]
  },
  {
   "cell_type": "code",
   "execution_count": 49,
   "metadata": {},
   "outputs": [],
   "source": [
    "# ResStock building types\n",
    "resstock_type_list = [\n",
    "    'mobile_home',\n",
    "    'multi-family_with_2_-_4_units',\n",
    "    'multi-family_with_5plus_units',\n",
    "    'single-family_attached',\n",
    "    'single-family_detached'\n",
    "]\n"
   ]
  },
  {
   "cell_type": "markdown",
   "metadata": {},
   "source": [
    "## County-level time series aggregates"
   ]
  },
  {
   "cell_type": "code",
   "execution_count": 50,
   "metadata": {},
   "outputs": [],
   "source": [
    "# Setup urls\n",
    "url_root = 'https://oedi-data-lake.s3.amazonaws.com/nrel-pds-building-stock/end-use-load-profiles-for-us-building-stock/2021/'\n",
    "resstock_amy2018_pfx = url_root + 'resstock_amy2018_release_1/timeseries_aggregates/'\n",
    "resstock_tmy3_pfx = url_root + 'resstock_tmy3_release_1/timeseries_aggregates/'\n",
    "comstock_amy2018_pfx = url_root + 'comstock_amy2018_release_1/timeseries_aggregates/'\n",
    "comstock_tmy3_pfx = url_root + 'comstock_tmy3_release_1/timeseries_aggregates/'\n"
   ]
  },
  {
   "cell_type": "code",
   "execution_count": 51,
   "metadata": {},
   "outputs": [
    {
     "name": "stdout",
     "output_type": "stream",
     "text": [
      "Directory already exists: ../Data_ny/resstock_amy2018\\county\n",
      "File cannot be found: g3600170-single-family_attached.csv\n",
      "File cannot be found: g3600230-single-family_attached.csv\n",
      "File cannot be found: g3600990-single-family_attached.csv\n"
     ]
    }
   ],
   "source": [
    "# Download resstock amy2018 data by county in NY\n",
    "resstock_amy2018_county_url = resstock_amy2018_pfx + f'by_county/state={state.upper()}/'\n",
    "resstock_amy2018_county_dir = os.path.join(resstock_amy2018_dir,'county')\n",
    "resstock_amy2018_county_filename_list, _ = dl.download_ts_agg(resstock_amy2018_county_url,\n",
    "                                                            county_id_list,\n",
    "                                                            resstock_type_list,\n",
    "                                                            resstock_amy2018_county_dir)\n"
   ]
  },
  {
   "cell_type": "code",
   "execution_count": 52,
   "metadata": {},
   "outputs": [],
   "source": [
    "# Download resstock tmy3 data by county in state\n",
    "if download_tmy:\n",
    "    resstock_tmy3_county_url = resstock_tmy3_pfx + f'by_county/state={state.upper()}/'\n",
    "    resstock_tmy3_county_dir = os.path.join(resstock_tmy3_dir,'county')\n",
    "    resstock_tmy3_county_filename_list, _ = dl.download_ts_agg(resstock_tmy3_county_url,\n",
    "                                                            county_id_list,\n",
    "                                                            resstock_type_list,\n",
    "                                                            resstock_tmy3_county_dir)\n"
   ]
  },
  {
   "cell_type": "markdown",
   "metadata": {},
   "source": [
    "## County-level weather timeseries"
   ]
  },
  {
   "cell_type": "code",
   "execution_count": 53,
   "metadata": {},
   "outputs": [
    {
     "name": "stdout",
     "output_type": "stream",
     "text": [
      "Directory already exists: ../Data_ny/resstock_amy2018\\weather\n"
     ]
    }
   ],
   "source": [
    "weather_amy2018_url = url_root + 'resstock_amy2018_release_1/weather/amy2018/'\n",
    "weather_amy2018_dir = os.path.join(resstock_amy2018_dir,'weather')\n",
    "weather_amy2018_county_filename_list, _ = dl.download_weather_ts(weather_amy2018_url,\n",
    "                                                            county_id_list,\n",
    "                                                            '2018',\n",
    "                                                            weather_amy2018_dir)\n"
   ]
  },
  {
   "cell_type": "code",
   "execution_count": 54,
   "metadata": {},
   "outputs": [
    {
     "name": "stdout",
     "output_type": "stream",
     "text": [
      "Directory already exists: ../Data_ny/resstock_tmy3\\weather\n"
     ]
    }
   ],
   "source": [
    "weather_tmy3_url = url_root + 'resstock_tmy3_release_1/weather/tmy3/'\n",
    "weather_tmy3_dir = os.path.join(resstock_tmy3_dir,'weather')\n",
    "weather_tmy3_county_filename_list, _ = dl.download_weather_ts(weather_tmy3_url,\n",
    "                                                            county_id_list,\n",
    "                                                            'tmy3',\n",
    "                                                            weather_tmy3_dir)"
   ]
  },
  {
   "cell_type": "markdown",
   "metadata": {},
   "source": [
    "## State-level time series aggregates"
   ]
  },
  {
   "cell_type": "code",
   "execution_count": 55,
   "metadata": {},
   "outputs": [
    {
     "name": "stdout",
     "output_type": "stream",
     "text": [
      "Directory already exists: ../Data_ny/resstock_amy2018\\ny\n"
     ]
    }
   ],
   "source": [
    "# Download resstock amy2018 data in state\n",
    "resstock_amy2018_ny_url = resstock_amy2018_pfx + f'by_state/state={state.upper()}/'\n",
    "resstock_amy2018_ny_dir = os.path.join(resstock_amy2018_dir, state)\n",
    "resstock_amy2018_ny_filename_list, _ = dl.download_ts_agg(resstock_amy2018_ny_url,\n",
    "                                                        [state],\n",
    "                                                        resstock_type_list,\n",
    "                                                        resstock_amy2018_ny_dir)\n"
   ]
  },
  {
   "cell_type": "code",
   "execution_count": 56,
   "metadata": {},
   "outputs": [],
   "source": [
    "# Download resstock tmy3 data in state\n",
    "if download_tmy:\n",
    "    resstock_tmy3_ny_url = resstock_tmy3_pfx + f'by_state/state={state.upper()}/'\n",
    "    resstock_tmy3_ny_dir = os.path.join(resstock_tmy3_dir, state)\n",
    "    resstock_tmy3_ny_filename_list, _ = dl.download_ts_agg(resstock_tmy3_ny_url,\n",
    "                                                        [state],\n",
    "                                                        resstock_type_list,\n",
    "                                                        resstock_tmy3_ny_dir)\n"
   ]
  },
  {
   "cell_type": "markdown",
   "metadata": {},
   "source": [
    "## Individual building time series"
   ]
  },
  {
   "cell_type": "code",
   "execution_count": 57,
   "metadata": {},
   "outputs": [],
   "source": [
    "# Download resstock amy2018 building timeseries data by county in state\n",
    "resstock_amy2018_bldg_pfx = 'resstock_amy2018_release_1/timeseries_individual_buildings/by_county/upgrade=0/'\n",
    "resstock_amy2018_bldg_dir = os.path.join(resstock_amy2018_dir,'building')\n",
    "resstock_amy2018_bldg_filename_list, _ =  dl.download_bldg_ts(url_root + resstock_amy2018_bldg_pfx, \n",
    "                                                        county_id_list, \n",
    "                                                        res_bldg_list_dict, \n",
    "                                                        resstock_amy2018_bldg_dir)\n"
   ]
  },
  {
   "cell_type": "code",
   "execution_count": 58,
   "metadata": {},
   "outputs": [],
   "source": [
    "# Download resstock tmy3 building timeseries data by county in state\n",
    "if download_tmy:\n",
    "    resstock_tmy3_bldg_pfx = 'resstock_tmy3_release_1/timeseries_individual_buildings/by_county/upgrade=0/'\n",
    "    resstock_tmy3_bldg_dir = os.path.join(resstock_tmy3_dir,'building')\n",
    "    resstock_tmy3_bldg_filename_list, _ =  dl.download_bldg_ts(url_root + resstock_tmy3_bldg_pfx, \n",
    "                                                            county_id_list, \n",
    "                                                            res_bldg_list_dict, \n",
    "                                                            resstock_tmy3_bldg_dir)"
   ]
  },
  {
   "cell_type": "markdown",
   "metadata": {},
   "source": [
    "# Download ComStock data"
   ]
  },
  {
   "cell_type": "code",
   "execution_count": 59,
   "metadata": {},
   "outputs": [],
   "source": [
    "# Read comstock building characteristics data\n",
    "com_building_state = pd.read_csv(os.path.join(data_dir, f'metadata_comstock_amy2018_{state}.csv'))\n",
    "\n",
    "# Create a dictionary for building id in each county\n",
    "com_bldg_list_dict = dict()\n",
    "for county_id in county_id_list:\n",
    "    county_df = com_building_state.loc[com_building_state['in.county'] == county_id]\n",
    "    building_id = county_df['bldg_id'].to_list()\n",
    "    com_bldg_list_dict[county_id] = building_id"
   ]
  },
  {
   "cell_type": "code",
   "execution_count": 60,
   "metadata": {},
   "outputs": [],
   "source": [
    "# Comstock building types\n",
    "comstock_type_list = [\n",
    "    'fullservicerestaurant',\n",
    "    'hospital',\n",
    "    'largehotel',\n",
    "    'largeoffice',\n",
    "    'mediumoffice',\n",
    "    'outpatient',\n",
    "    'primaryschool',\n",
    "    'quickservicerestaurant',\n",
    "    'retailstandalone',\n",
    "    'retailstripmall',\n",
    "    'secondaryschool',\n",
    "    'smallhotel',\n",
    "    'smalloffice',\n",
    "    'warehouse'\n",
    "]\n"
   ]
  },
  {
   "cell_type": "markdown",
   "metadata": {},
   "source": [
    "## County-level time series aggregates"
   ]
  },
  {
   "cell_type": "code",
   "execution_count": 61,
   "metadata": {},
   "outputs": [
    {
     "name": "stdout",
     "output_type": "stream",
     "text": [
      "Directory already exists: ../Data_ny/comstock_amy2018\\county\n",
      "File cannot be found: g3600010-hospital.csv\n",
      "File cannot be found: g3600030-hospital.csv\n",
      "File cannot be found: g3600030-largeoffice.csv\n",
      "File cannot be found: g3600030-mediumoffice.csv\n",
      "File cannot be found: g3600030-outpatient.csv\n",
      "File cannot be found: g3600050-smallhotel.csv\n",
      "File cannot be found: g3600070-hospital.csv\n",
      "File cannot be found: g3600070-largeoffice.csv\n",
      "File cannot be found: g3600090-hospital.csv\n",
      "File cannot be found: g3600090-outpatient.csv\n",
      "File cannot be found: g3600090-primaryschool.csv\n",
      "File cannot be found: g3600110-hospital.csv\n",
      "File cannot be found: g3600110-largehotel.csv\n",
      "File cannot be found: g3600110-largeoffice.csv\n",
      "File cannot be found: g3600110-outpatient.csv\n",
      "File cannot be found: g3600110-secondaryschool.csv\n",
      "File cannot be found: g3600130-largeoffice.csv\n",
      "File cannot be found: g3600130-outpatient.csv\n",
      "File cannot be found: g3600150-largehotel.csv\n",
      "File cannot be found: g3600150-largeoffice.csv\n",
      "File cannot be found: g3600150-mediumoffice.csv\n",
      "File cannot be found: g3600150-outpatient.csv\n",
      "File cannot be found: g3600170-hospital.csv\n",
      "File cannot be found: g3600170-largeoffice.csv\n",
      "File cannot be found: g3600170-outpatient.csv\n",
      "File cannot be found: g3600170-quickservicerestaurant.csv\n",
      "File cannot be found: g3600170-smallhotel.csv\n",
      "File cannot be found: g3600190-hospital.csv\n",
      "File cannot be found: g3600190-largehotel.csv\n",
      "File cannot be found: g3600190-largeoffice.csv\n",
      "File cannot be found: g3600190-mediumoffice.csv\n",
      "File cannot be found: g3600190-outpatient.csv\n",
      "File cannot be found: g3600190-smallhotel.csv\n",
      "File cannot be found: g3600210-hospital.csv\n",
      "File cannot be found: g3600210-largehotel.csv\n",
      "File cannot be found: g3600210-largeoffice.csv\n",
      "File cannot be found: g3600210-outpatient.csv\n",
      "File cannot be found: g3600210-primaryschool.csv\n",
      "File cannot be found: g3600210-quickservicerestaurant.csv\n",
      "File cannot be found: g3600230-hospital.csv\n",
      "File cannot be found: g3600230-largeoffice.csv\n",
      "File cannot be found: g3600230-outpatient.csv\n",
      "File cannot be found: g3600230-quickservicerestaurant.csv\n",
      "File cannot be found: g3600230-smallhotel.csv\n",
      "File cannot be found: g3600250-largehotel.csv\n",
      "File cannot be found: g3600250-largeoffice.csv\n",
      "File cannot be found: g3600250-mediumoffice.csv\n",
      "File cannot be found: g3600250-outpatient.csv\n",
      "File cannot be found: g3600250-primaryschool.csv\n",
      "File cannot be found: g3600270-hospital.csv\n",
      "File cannot be found: g3600270-largeoffice.csv\n",
      "File cannot be found: g3600310-largeoffice.csv\n",
      "File cannot be found: g3600310-mediumoffice.csv\n",
      "File cannot be found: g3600310-outpatient.csv\n",
      "File cannot be found: g3600310-primaryschool.csv\n",
      "File cannot be found: g3600330-hospital.csv\n",
      "File cannot be found: g3600330-largehotel.csv\n",
      "File cannot be found: g3600330-largeoffice.csv\n",
      "File cannot be found: g3600330-outpatient.csv\n",
      "File cannot be found: g3600330-quickservicerestaurant.csv\n",
      "File cannot be found: g3600330-smallhotel.csv\n",
      "File cannot be found: g3600350-hospital.csv\n",
      "File cannot be found: g3600350-largeoffice.csv\n",
      "File cannot be found: g3600350-mediumoffice.csv\n",
      "File cannot be found: g3600350-outpatient.csv\n",
      "File cannot be found: g3600350-primaryschool.csv\n",
      "File cannot be found: g3600350-smallhotel.csv\n",
      "File cannot be found: g3600370-hospital.csv\n",
      "File cannot be found: g3600370-largehotel.csv\n",
      "File cannot be found: g3600370-largeoffice.csv\n",
      "File cannot be found: g3600390-hospital.csv\n",
      "File cannot be found: g3600390-largehotel.csv\n",
      "File cannot be found: g3600390-largeoffice.csv\n",
      "File cannot be found: g3600390-mediumoffice.csv\n",
      "File cannot be found: g3600390-outpatient.csv\n",
      "File cannot be found: g3600390-primaryschool.csv\n",
      "File cannot be found: g3600410-hospital.csv\n",
      "File cannot be found: g3600410-largeoffice.csv\n",
      "File cannot be found: g3600410-mediumoffice.csv\n",
      "File cannot be found: g3600410-outpatient.csv\n",
      "File cannot be found: g3600410-primaryschool.csv\n",
      "File cannot be found: g3600410-quickservicerestaurant.csv\n",
      "File cannot be found: g3600410-retailstandalone.csv\n",
      "File cannot be found: g3600410-warehouse.csv\n",
      "File cannot be found: g3600430-hospital.csv\n",
      "File cannot be found: g3600430-largehotel.csv\n",
      "File cannot be found: g3600430-largeoffice.csv\n",
      "File cannot be found: g3600430-mediumoffice.csv\n",
      "File cannot be found: g3600430-outpatient.csv\n",
      "File cannot be found: g3600430-quickservicerestaurant.csv\n",
      "File cannot be found: g3600450-largeoffice.csv\n",
      "File cannot be found: g3600450-outpatient.csv\n",
      "File cannot be found: g3600470-hospital.csv\n",
      "File cannot be found: g3600490-hospital.csv\n",
      "File cannot be found: g3600490-largehotel.csv\n",
      "File cannot be found: g3600490-largeoffice.csv\n",
      "File cannot be found: g3600490-mediumoffice.csv\n",
      "File cannot be found: g3600490-outpatient.csv\n",
      "File cannot be found: g3600490-quickservicerestaurant.csv\n",
      "File cannot be found: g3600490-smallhotel.csv\n",
      "File cannot be found: g3600510-hospital.csv\n",
      "File cannot be found: g3600510-largehotel.csv\n",
      "File cannot be found: g3600510-largeoffice.csv\n",
      "File cannot be found: g3600510-mediumoffice.csv\n",
      "File cannot be found: g3600510-outpatient.csv\n",
      "File cannot be found: g3600510-primaryschool.csv\n",
      "File cannot be found: g3600510-smallhotel.csv\n",
      "File cannot be found: g3600530-largehotel.csv\n",
      "File cannot be found: g3600530-largeoffice.csv\n",
      "File cannot be found: g3600530-quickservicerestaurant.csv\n",
      "File cannot be found: g3600550-hospital.csv\n",
      "File cannot be found: g3600570-hospital.csv\n",
      "File cannot be found: g3600570-largeoffice.csv\n",
      "File cannot be found: g3600570-secondaryschool.csv\n",
      "File cannot be found: g3600610-smallhotel.csv\n",
      "File cannot be found: g3600630-largeoffice.csv\n",
      "File cannot be found: g3600650-hospital.csv\n",
      "File cannot be found: g3600650-largehotel.csv\n",
      "File cannot be found: g3600650-largeoffice.csv\n",
      "File cannot be found: g3600690-largehotel.csv\n",
      "File cannot be found: g3600690-largeoffice.csv\n",
      "File cannot be found: g3600710-hospital.csv\n",
      "File cannot be found: g3600730-hospital.csv\n",
      "File cannot be found: g3600730-largehotel.csv\n",
      "File cannot be found: g3600730-largeoffice.csv\n",
      "File cannot be found: g3600730-mediumoffice.csv\n",
      "File cannot be found: g3600730-outpatient.csv\n",
      "File cannot be found: g3600730-primaryschool.csv\n",
      "File cannot be found: g3600730-quickservicerestaurant.csv\n",
      "File cannot be found: g3600730-smallhotel.csv\n",
      "File cannot be found: g3600750-hospital.csv\n",
      "File cannot be found: g3600750-largehotel.csv\n",
      "File cannot be found: g3600750-largeoffice.csv\n",
      "File cannot be found: g3600750-outpatient.csv\n",
      "File cannot be found: g3600750-secondaryschool.csv\n",
      "File cannot be found: g3600770-largeoffice.csv\n",
      "File cannot be found: g3600770-mediumoffice.csv\n",
      "File cannot be found: g3600770-outpatient.csv\n",
      "File cannot be found: g3600790-hospital.csv\n",
      "File cannot be found: g3600790-largehotel.csv\n",
      "File cannot be found: g3600790-largeoffice.csv\n",
      "File cannot be found: g3600790-smallhotel.csv\n",
      "File cannot be found: g3600830-hospital.csv\n",
      "File cannot be found: g3600850-hospital.csv\n",
      "File cannot be found: g3600850-largehotel.csv\n",
      "File cannot be found: g3600850-largeoffice.csv\n",
      "File cannot be found: g3600870-hospital.csv\n",
      "File cannot be found: g3600870-largehotel.csv\n",
      "File cannot be found: g3600870-largeoffice.csv\n",
      "File cannot be found: g3600870-secondaryschool.csv\n",
      "File cannot be found: g3600890-largeoffice.csv\n",
      "File cannot be found: g3600890-mediumoffice.csv\n",
      "File cannot be found: g3600910-hospital.csv\n",
      "File cannot be found: g3600910-largeoffice.csv\n",
      "File cannot be found: g3600930-hospital.csv\n",
      "File cannot be found: g3600930-largeoffice.csv\n",
      "File cannot be found: g3600950-hospital.csv\n",
      "File cannot be found: g3600950-largehotel.csv\n",
      "File cannot be found: g3600950-largeoffice.csv\n",
      "File cannot be found: g3600950-mediumoffice.csv\n",
      "File cannot be found: g3600950-outpatient.csv\n",
      "File cannot be found: g3600950-primaryschool.csv\n",
      "File cannot be found: g3600950-quickservicerestaurant.csv\n",
      "File cannot be found: g3600970-fullservicerestaurant.csv\n",
      "File cannot be found: g3600970-hospital.csv\n",
      "File cannot be found: g3600970-largehotel.csv\n",
      "File cannot be found: g3600970-largeoffice.csv\n",
      "File cannot be found: g3600970-mediumoffice.csv\n",
      "File cannot be found: g3600970-outpatient.csv\n",
      "File cannot be found: g3600970-quickservicerestaurant.csv\n",
      "File cannot be found: g3600970-secondaryschool.csv\n",
      "File cannot be found: g3600990-hospital.csv\n",
      "File cannot be found: g3600990-largehotel.csv\n",
      "File cannot be found: g3600990-largeoffice.csv\n",
      "File cannot be found: g3600990-outpatient.csv\n",
      "File cannot be found: g3600990-primaryschool.csv\n",
      "File cannot be found: g3600990-quickservicerestaurant.csv\n",
      "File cannot be found: g3600990-smallhotel.csv\n",
      "File cannot be found: g3601010-hospital.csv\n",
      "File cannot be found: g3601010-largehotel.csv\n",
      "File cannot be found: g3601010-largeoffice.csv\n",
      "File cannot be found: g3601030-hospital.csv\n",
      "File cannot be found: g3601050-hospital.csv\n",
      "File cannot be found: g3601050-largeoffice.csv\n",
      "File cannot be found: g3601050-outpatient.csv\n",
      "File cannot be found: g3601050-quickservicerestaurant.csv\n",
      "File cannot be found: g3601050-secondaryschool.csv\n",
      "File cannot be found: g3601070-hospital.csv\n",
      "File cannot be found: g3601070-largehotel.csv\n",
      "File cannot be found: g3601070-largeoffice.csv\n",
      "File cannot be found: g3601070-mediumoffice.csv\n",
      "File cannot be found: g3601070-outpatient.csv\n",
      "File cannot be found: g3601090-largeoffice.csv\n",
      "File cannot be found: g3601090-outpatient.csv\n",
      "File cannot be found: g3601110-hospital.csv\n",
      "File cannot be found: g3601110-largeoffice.csv\n",
      "File cannot be found: g3601130-hospital.csv\n",
      "File cannot be found: g3601130-largeoffice.csv\n",
      "File cannot be found: g3601150-hospital.csv\n",
      "File cannot be found: g3601150-largehotel.csv\n",
      "File cannot be found: g3601150-largeoffice.csv\n",
      "File cannot be found: g3601150-outpatient.csv\n",
      "File cannot be found: g3601150-secondaryschool.csv\n",
      "File cannot be found: g3601150-smallhotel.csv\n",
      "File cannot be found: g3601170-hospital.csv\n",
      "File cannot be found: g3601170-largehotel.csv\n",
      "File cannot be found: g3601170-largeoffice.csv\n",
      "File cannot be found: g3601170-mediumoffice.csv\n",
      "File cannot be found: g3601170-outpatient.csv\n",
      "File cannot be found: g3601210-hospital.csv\n",
      "File cannot be found: g3601210-largeoffice.csv\n",
      "File cannot be found: g3601210-outpatient.csv\n",
      "File cannot be found: g3601210-smallhotel.csv\n",
      "File cannot be found: g3601230-hospital.csv\n",
      "File cannot be found: g3601230-largehotel.csv\n",
      "File cannot be found: g3601230-largeoffice.csv\n",
      "File cannot be found: g3601230-mediumoffice.csv\n",
      "File cannot be found: g3601230-outpatient.csv\n",
      "File cannot be found: g3601230-secondaryschool.csv\n"
     ]
    }
   ],
   "source": [
    "# Download comstock amy2018 data by county in NY\n",
    "comstock_amy2018_county_url = comstock_amy2018_pfx + f'by_county/state={state.upper()}/'\n",
    "comstock_amy2018_county_dir = os.path.join(comstock_amy2018_dir,'county')\n",
    "comstock_amy2018_county_filename_list, _ = dl.download_ts_agg(comstock_amy2018_county_url,\n",
    "                                                            county_id_list,\n",
    "                                                            comstock_type_list,\n",
    "                                                            comstock_amy2018_county_dir)\n"
   ]
  },
  {
   "cell_type": "code",
   "execution_count": 62,
   "metadata": {},
   "outputs": [],
   "source": [
    "# Download comstock tmy3 data by county in state\n",
    "if download_tmy:\n",
    "    comstock_tmy3_county_url = comstock_tmy3_pfx + f'by_county/state={state.upper()}/'\n",
    "    comstock_tmy3_county_dir = os.path.join(comstock_tmy3_dir,'county')\n",
    "    comstock_tmy3_county_filename_list, _ = dl.download_ts_agg(comstock_tmy3_county_url,\n",
    "                                                            county_id_list,\n",
    "                                                            comstock_type_list,\n",
    "                                                            comstock_tmy3_county_dir)\n"
   ]
  },
  {
   "cell_type": "markdown",
   "metadata": {},
   "source": [
    "## State-level time series aggregates"
   ]
  },
  {
   "cell_type": "code",
   "execution_count": 63,
   "metadata": {},
   "outputs": [
    {
     "name": "stdout",
     "output_type": "stream",
     "text": [
      "Directory already exists: ../Data_ny/comstock_amy2018\\ny\n"
     ]
    }
   ],
   "source": [
    "# Download comstock amy2018 data in state\n",
    "comstock_amy2018_ny_url = comstock_amy2018_pfx + f'by_state/state={state.upper()}/'\n",
    "comstock_amy2018_ny_dir = os.path.join(comstock_amy2018_dir, state)\n",
    "comstock_amy2018_ny_filename_list, _ = dl.download_ts_agg(comstock_amy2018_ny_url,\n",
    "                                                        [state],\n",
    "                                                        comstock_type_list,\n",
    "                                                        comstock_amy2018_ny_dir)\n"
   ]
  },
  {
   "cell_type": "code",
   "execution_count": 64,
   "metadata": {},
   "outputs": [],
   "source": [
    "# Download comstock tmy3 data in state\n",
    "if download_tmy:\n",
    "    comstock_tmy3_ny_url = comstock_tmy3_pfx + f'by_state/state={state.upper()}/'\n",
    "    comstock_tmy3_ny_dir = os.path.join(comstock_tmy3_dir, state)\n",
    "    comstock_tmy3_ny_filename_list, _ = dl.download_ts_agg(comstock_tmy3_ny_url,\n",
    "                                                        [state],\n",
    "                                                        comstock_type_list,\n",
    "                                                        comstock_tmy3_ny_dir)\n"
   ]
  },
  {
   "cell_type": "markdown",
   "metadata": {},
   "source": [
    "## Individual building time series"
   ]
  },
  {
   "cell_type": "code",
   "execution_count": 65,
   "metadata": {},
   "outputs": [],
   "source": [
    "# Download resstock amy2018 building timeseries data by county in state\n",
    "comstock_amy2018_bldg_pfx = 'comstock_amy2018_release_1/timeseries_individual_buildings/by_county/upgrade=0/'\n",
    "comstock_amy2018_bldg_dir = os.path.join(comstock_amy2018_dir,'building')\n",
    "comstock_amy2018_bldg_filename_list, _ = dl.download_bldg_ts(url_root + comstock_amy2018_bldg_pfx, \n",
    "                                                        county_id_list, \n",
    "                                                        com_bldg_list_dict, \n",
    "                                                        comstock_amy2018_bldg_dir)"
   ]
  },
  {
   "cell_type": "code",
   "execution_count": 66,
   "metadata": {},
   "outputs": [],
   "source": [
    "# Download resstock tmy3 building timeseries data by county in state\n",
    "if download_tmy:\n",
    "    comstock_tmy3_bldg_pfx = 'comstock_tmy3_release_1/timeseries_individual_buildings/by_county/upgrade=0/'\n",
    "    comstock_tmy3_bldg_dir = os.path.join(comstock_tmy3_dir,'building')\n",
    "    comstock_tmy3_bldg_filename_list, _ = dl.download_bldg_ts(url_root + comstock_tmy3_bldg_pfx,\n",
    "                                                            county_id_list, \n",
    "                                                            com_bldg_list_dict, \n",
    "                                                            comstock_tmy3_bldg_dir)"
   ]
  }
 ],
 "metadata": {
  "interpreter": {
   "hash": "f1e7b9e5b0ccd18e373e44bae5bf3ffa8873ffa9b0a195a69c8a44ccfc15a04d"
  },
  "kernelspec": {
   "display_name": "Python 3.9.7 ('power')",
   "language": "python",
   "name": "python3"
  },
  "language_info": {
   "codemirror_mode": {
    "name": "ipython",
    "version": 3
   },
   "file_extension": ".py",
   "mimetype": "text/x-python",
   "name": "python",
   "nbconvert_exporter": "python",
   "pygments_lexer": "ipython3",
   "version": "3.9.7"
  },
  "orig_nbformat": 4
 },
 "nbformat": 4,
 "nbformat_minor": 2
}
